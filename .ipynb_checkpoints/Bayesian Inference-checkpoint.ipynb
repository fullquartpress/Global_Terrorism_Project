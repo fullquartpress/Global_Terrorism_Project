{
 "cells": [
  {
   "cell_type": "code",
   "execution_count": 1,
   "metadata": {},
   "outputs": [
    {
     "name": "stderr",
     "output_type": "stream",
     "text": [
      "WARNING (theano.configdefaults): install mkl with `conda install mkl-service`: No module named 'mkl'\n",
      "/opt/conda/lib/python3.6/site-packages/h5py/__init__.py:36: FutureWarning: Conversion of the second argument of issubdtype from `float` to `np.floating` is deprecated. In future, it will be treated as `np.float64 == np.dtype(float).type`.\n",
      "  from ._conv import register_converters as _register_converters\n"
     ]
    }
   ],
   "source": [
    "import pandas as pd\n",
    "import numpy as np\n",
    "import matplotlib.pyplot as plt\n",
    "import seaborn as sns\n",
    "\n",
    "import pymc3 as pm\n",
    "from sklearn.preprocessing import StandardScaler\n",
    "\n",
    "%matplotlib inline"
   ]
  },
  {
   "cell_type": "code",
   "execution_count": 2,
   "metadata": {},
   "outputs": [
    {
     "data": {
      "text/html": [
       "<div>\n",
       "<table border=\"1\" class=\"dataframe\">\n",
       "  <thead>\n",
       "    <tr style=\"text-align: right;\">\n",
       "      <th></th>\n",
       "      <th>eventid</th>\n",
       "      <th>iyear</th>\n",
       "      <th>imonth</th>\n",
       "      <th>iday</th>\n",
       "      <th>approxdate</th>\n",
       "      <th>extended</th>\n",
       "      <th>resolution</th>\n",
       "      <th>country</th>\n",
       "      <th>country_txt</th>\n",
       "      <th>region</th>\n",
       "      <th>...</th>\n",
       "      <th>addnotes</th>\n",
       "      <th>scite1</th>\n",
       "      <th>scite2</th>\n",
       "      <th>scite3</th>\n",
       "      <th>dbsource</th>\n",
       "      <th>INT_LOG</th>\n",
       "      <th>INT_IDEO</th>\n",
       "      <th>INT_MISC</th>\n",
       "      <th>INT_ANY</th>\n",
       "      <th>related</th>\n",
       "    </tr>\n",
       "  </thead>\n",
       "  <tbody>\n",
       "    <tr>\n",
       "      <th>0</th>\n",
       "      <td>197000000001</td>\n",
       "      <td>1970</td>\n",
       "      <td>7</td>\n",
       "      <td>2</td>\n",
       "      <td>NaN</td>\n",
       "      <td>0</td>\n",
       "      <td>NaN</td>\n",
       "      <td>58</td>\n",
       "      <td>Dominican Republic</td>\n",
       "      <td>2</td>\n",
       "      <td>...</td>\n",
       "      <td>NaN</td>\n",
       "      <td>NaN</td>\n",
       "      <td>NaN</td>\n",
       "      <td>NaN</td>\n",
       "      <td>PGIS</td>\n",
       "      <td>0</td>\n",
       "      <td>0</td>\n",
       "      <td>0</td>\n",
       "      <td>0</td>\n",
       "      <td>NaN</td>\n",
       "    </tr>\n",
       "    <tr>\n",
       "      <th>1</th>\n",
       "      <td>197000000002</td>\n",
       "      <td>1970</td>\n",
       "      <td>0</td>\n",
       "      <td>0</td>\n",
       "      <td>NaN</td>\n",
       "      <td>0</td>\n",
       "      <td>NaN</td>\n",
       "      <td>130</td>\n",
       "      <td>Mexico</td>\n",
       "      <td>1</td>\n",
       "      <td>...</td>\n",
       "      <td>NaN</td>\n",
       "      <td>NaN</td>\n",
       "      <td>NaN</td>\n",
       "      <td>NaN</td>\n",
       "      <td>PGIS</td>\n",
       "      <td>0</td>\n",
       "      <td>1</td>\n",
       "      <td>1</td>\n",
       "      <td>1</td>\n",
       "      <td>NaN</td>\n",
       "    </tr>\n",
       "    <tr>\n",
       "      <th>2</th>\n",
       "      <td>197001000001</td>\n",
       "      <td>1970</td>\n",
       "      <td>1</td>\n",
       "      <td>0</td>\n",
       "      <td>NaN</td>\n",
       "      <td>0</td>\n",
       "      <td>NaN</td>\n",
       "      <td>160</td>\n",
       "      <td>Philippines</td>\n",
       "      <td>5</td>\n",
       "      <td>...</td>\n",
       "      <td>NaN</td>\n",
       "      <td>NaN</td>\n",
       "      <td>NaN</td>\n",
       "      <td>NaN</td>\n",
       "      <td>PGIS</td>\n",
       "      <td>-9</td>\n",
       "      <td>-9</td>\n",
       "      <td>1</td>\n",
       "      <td>1</td>\n",
       "      <td>NaN</td>\n",
       "    </tr>\n",
       "    <tr>\n",
       "      <th>3</th>\n",
       "      <td>197001000002</td>\n",
       "      <td>1970</td>\n",
       "      <td>1</td>\n",
       "      <td>0</td>\n",
       "      <td>NaN</td>\n",
       "      <td>0</td>\n",
       "      <td>NaN</td>\n",
       "      <td>78</td>\n",
       "      <td>Greece</td>\n",
       "      <td>8</td>\n",
       "      <td>...</td>\n",
       "      <td>NaN</td>\n",
       "      <td>NaN</td>\n",
       "      <td>NaN</td>\n",
       "      <td>NaN</td>\n",
       "      <td>PGIS</td>\n",
       "      <td>-9</td>\n",
       "      <td>-9</td>\n",
       "      <td>1</td>\n",
       "      <td>1</td>\n",
       "      <td>NaN</td>\n",
       "    </tr>\n",
       "    <tr>\n",
       "      <th>4</th>\n",
       "      <td>197001000003</td>\n",
       "      <td>1970</td>\n",
       "      <td>1</td>\n",
       "      <td>0</td>\n",
       "      <td>NaN</td>\n",
       "      <td>0</td>\n",
       "      <td>NaN</td>\n",
       "      <td>101</td>\n",
       "      <td>Japan</td>\n",
       "      <td>4</td>\n",
       "      <td>...</td>\n",
       "      <td>NaN</td>\n",
       "      <td>NaN</td>\n",
       "      <td>NaN</td>\n",
       "      <td>NaN</td>\n",
       "      <td>PGIS</td>\n",
       "      <td>-9</td>\n",
       "      <td>-9</td>\n",
       "      <td>1</td>\n",
       "      <td>1</td>\n",
       "      <td>NaN</td>\n",
       "    </tr>\n",
       "  </tbody>\n",
       "</table>\n",
       "<p>5 rows × 135 columns</p>\n",
       "</div>"
      ],
      "text/plain": [
       "        eventid  iyear  imonth  iday approxdate  extended resolution  country  \\\n",
       "0  197000000001   1970       7     2        NaN         0        NaN       58   \n",
       "1  197000000002   1970       0     0        NaN         0        NaN      130   \n",
       "2  197001000001   1970       1     0        NaN         0        NaN      160   \n",
       "3  197001000002   1970       1     0        NaN         0        NaN       78   \n",
       "4  197001000003   1970       1     0        NaN         0        NaN      101   \n",
       "\n",
       "          country_txt  region   ...    addnotes scite1 scite2  scite3  \\\n",
       "0  Dominican Republic       2   ...         NaN    NaN    NaN     NaN   \n",
       "1              Mexico       1   ...         NaN    NaN    NaN     NaN   \n",
       "2         Philippines       5   ...         NaN    NaN    NaN     NaN   \n",
       "3              Greece       8   ...         NaN    NaN    NaN     NaN   \n",
       "4               Japan       4   ...         NaN    NaN    NaN     NaN   \n",
       "\n",
       "   dbsource  INT_LOG  INT_IDEO INT_MISC INT_ANY  related  \n",
       "0      PGIS        0         0        0       0      NaN  \n",
       "1      PGIS        0         1        1       1      NaN  \n",
       "2      PGIS       -9        -9        1       1      NaN  \n",
       "3      PGIS       -9        -9        1       1      NaN  \n",
       "4      PGIS       -9        -9        1       1      NaN  \n",
       "\n",
       "[5 rows x 135 columns]"
      ]
     },
     "execution_count": 2,
     "metadata": {},
     "output_type": "execute_result"
    }
   ],
   "source": [
    "df = pd.read_csv('../data/globalterrorismdb_0617dist.csv', encoding = 'latin-1', low_memory=False)\n",
    "\n",
    "df.head()"
   ]
  },
  {
   "cell_type": "code",
   "execution_count": 3,
   "metadata": {},
   "outputs": [
    {
     "data": {
      "text/plain": [
       "Index(['eventid', 'iyear', 'imonth', 'iday', 'approxdate', 'extended',\n",
       "       'resolution', 'country', 'country_txt', 'region',\n",
       "       ...\n",
       "       'addnotes', 'scite1', 'scite2', 'scite3', 'dbsource', 'INT_LOG',\n",
       "       'INT_IDEO', 'INT_MISC', 'INT_ANY', 'related'],\n",
       "      dtype='object', length=135)"
      ]
     },
     "execution_count": 3,
     "metadata": {},
     "output_type": "execute_result"
    }
   ],
   "source": [
    "df.columns\n",
    "#df.AttackTypeText"
   ]
  },
  {
   "cell_type": "code",
   "execution_count": 4,
   "metadata": {
    "collapsed": true
   },
   "outputs": [],
   "source": [
    "df.rename(columns={'iyear':'Year','imonth':'Month','iday':'Day','country_txt':'Country','region_txt':'Region','attacktype1_txt':'AttackTypeText','attacktype1': 'AttackType','target1':'Target','nkill':'Killed','nwound':'Wounded','summary':'Summary','gname':'Group','targtype1_txt':'Target_Type','weaptype1_txt':'Weapon_Type','motive':'Motive', 'latitude': 'Latitude', 'longitude': 'Longitude', 'success': 'Success'},inplace=True)\n",
    "df.rename(columns={'iyear':'Year','imonth':'Month','iday':'Day','city': 'City', 'country_txt':'Country','region_txt':'Region','attacktype1_txt':'AttackTypeText','attacktype1': 'AttackType','target1':'Target','nkill':'Killed','nwound':'Wounded','summary':'Summary','gname':'Group','targtype1_txt':'Target_Type','weaptype1_txt':'Weapon_Type','motive':'Motive', 'latitude': 'Latitude', 'longitude': 'Longitude', 'casualities': \"Casualties\", 'ransom': 'Ransom', 'ransomamt': 'Ransom_Amount', 'ransompaid': 'Ransom_Paid'},inplace=True)"
   ]
  },
  {
   "cell_type": "code",
   "execution_count": 5,
   "metadata": {
    "scrolled": true
   },
   "outputs": [
    {
     "data": {
      "text/html": [
       "<div>\n",
       "<table border=\"1\" class=\"dataframe\">\n",
       "  <thead>\n",
       "    <tr style=\"text-align: right;\">\n",
       "      <th></th>\n",
       "      <th>Year</th>\n",
       "      <th>Month</th>\n",
       "      <th>Day</th>\n",
       "      <th>Country</th>\n",
       "      <th>Region</th>\n",
       "      <th>City</th>\n",
       "      <th>Latitude</th>\n",
       "      <th>Longitude</th>\n",
       "      <th>AttackTypeText</th>\n",
       "      <th>AttackType</th>\n",
       "      <th>...</th>\n",
       "      <th>Group</th>\n",
       "      <th>Target_Type</th>\n",
       "      <th>Weapon_Type</th>\n",
       "      <th>Motive</th>\n",
       "      <th>Success</th>\n",
       "      <th>Ransom</th>\n",
       "      <th>Ransom_Amount</th>\n",
       "      <th>Ransom_Paid</th>\n",
       "      <th>INT_ANY</th>\n",
       "      <th>Casualties</th>\n",
       "    </tr>\n",
       "  </thead>\n",
       "  <tbody>\n",
       "    <tr>\n",
       "      <th>0</th>\n",
       "      <td>1970</td>\n",
       "      <td>7</td>\n",
       "      <td>2</td>\n",
       "      <td>Dominican Republic</td>\n",
       "      <td>Central America &amp; Caribbean</td>\n",
       "      <td>Santo Domingo</td>\n",
       "      <td>18.456792</td>\n",
       "      <td>-69.951164</td>\n",
       "      <td>Assassination</td>\n",
       "      <td>1</td>\n",
       "      <td>...</td>\n",
       "      <td>MANO-D</td>\n",
       "      <td>Private Citizens &amp; Property</td>\n",
       "      <td>Unknown</td>\n",
       "      <td>NaN</td>\n",
       "      <td>1</td>\n",
       "      <td>0.0</td>\n",
       "      <td>NaN</td>\n",
       "      <td>NaN</td>\n",
       "      <td>0</td>\n",
       "      <td>1.0</td>\n",
       "    </tr>\n",
       "    <tr>\n",
       "      <th>1</th>\n",
       "      <td>1970</td>\n",
       "      <td>0</td>\n",
       "      <td>0</td>\n",
       "      <td>Mexico</td>\n",
       "      <td>North America</td>\n",
       "      <td>Mexico city</td>\n",
       "      <td>19.432608</td>\n",
       "      <td>-99.133207</td>\n",
       "      <td>Hostage Taking (Kidnapping)</td>\n",
       "      <td>6</td>\n",
       "      <td>...</td>\n",
       "      <td>23rd of September Communist League</td>\n",
       "      <td>Government (Diplomatic)</td>\n",
       "      <td>Unknown</td>\n",
       "      <td>NaN</td>\n",
       "      <td>1</td>\n",
       "      <td>1.0</td>\n",
       "      <td>800000.0</td>\n",
       "      <td>NaN</td>\n",
       "      <td>1</td>\n",
       "      <td>0.0</td>\n",
       "    </tr>\n",
       "    <tr>\n",
       "      <th>2</th>\n",
       "      <td>1970</td>\n",
       "      <td>1</td>\n",
       "      <td>0</td>\n",
       "      <td>Philippines</td>\n",
       "      <td>Southeast Asia</td>\n",
       "      <td>Unknown</td>\n",
       "      <td>15.478598</td>\n",
       "      <td>120.599741</td>\n",
       "      <td>Assassination</td>\n",
       "      <td>1</td>\n",
       "      <td>...</td>\n",
       "      <td>Unknown</td>\n",
       "      <td>Journalists &amp; Media</td>\n",
       "      <td>Unknown</td>\n",
       "      <td>NaN</td>\n",
       "      <td>1</td>\n",
       "      <td>0.0</td>\n",
       "      <td>NaN</td>\n",
       "      <td>NaN</td>\n",
       "      <td>1</td>\n",
       "      <td>1.0</td>\n",
       "    </tr>\n",
       "  </tbody>\n",
       "</table>\n",
       "<p>3 rows × 24 columns</p>\n",
       "</div>"
      ],
      "text/plain": [
       "   Year  Month  Day             Country                       Region  \\\n",
       "0  1970      7    2  Dominican Republic  Central America & Caribbean   \n",
       "1  1970      0    0              Mexico                North America   \n",
       "2  1970      1    0         Philippines               Southeast Asia   \n",
       "\n",
       "            City   Latitude   Longitude               AttackTypeText  \\\n",
       "0  Santo Domingo  18.456792  -69.951164                Assassination   \n",
       "1    Mexico city  19.432608  -99.133207  Hostage Taking (Kidnapping)   \n",
       "2        Unknown  15.478598  120.599741                Assassination   \n",
       "\n",
       "   AttackType     ...                                   Group  \\\n",
       "0           1     ...                                  MANO-D   \n",
       "1           6     ...      23rd of September Communist League   \n",
       "2           1     ...                                 Unknown   \n",
       "\n",
       "                   Target_Type Weapon_Type Motive Success Ransom  \\\n",
       "0  Private Citizens & Property     Unknown    NaN       1    0.0   \n",
       "1      Government (Diplomatic)     Unknown    NaN       1    1.0   \n",
       "2          Journalists & Media     Unknown    NaN       1    0.0   \n",
       "\n",
       "  Ransom_Amount Ransom_Paid  INT_ANY  Casualties  \n",
       "0           NaN         NaN        0         1.0  \n",
       "1      800000.0         NaN        1         0.0  \n",
       "2           NaN         NaN        1         1.0  \n",
       "\n",
       "[3 rows x 24 columns]"
      ]
     },
     "execution_count": 5,
     "metadata": {},
     "output_type": "execute_result"
    }
   ],
   "source": [
    "terror=df[['Year','Month','Day','Country','Region','City','Latitude','Longitude','AttackTypeText','AttackType','Killed','Wounded','Target','Summary','Group','Target_Type','Weapon_Type','Motive', 'Success','Ransom','Ransom_Amount', 'Ransom_Paid', 'INT_ANY']].copy()\n",
    "terror['Casualties']=terror['Killed']+terror['Wounded']\n",
    "terror.head(3)"
   ]
  },
  {
   "cell_type": "code",
   "execution_count": 6,
   "metadata": {},
   "outputs": [
    {
     "data": {
      "text/plain": [
       "Year                   0\n",
       "Month                  0\n",
       "Day                    0\n",
       "Country                0\n",
       "Region                 0\n",
       "City                 446\n",
       "Latitude            4606\n",
       "Longitude           4606\n",
       "AttackTypeText         0\n",
       "AttackType             0\n",
       "Killed              9682\n",
       "Wounded            15325\n",
       "Target               634\n",
       "Summary            66138\n",
       "Group                  0\n",
       "Target_Type            0\n",
       "Weapon_Type            0\n",
       "Motive            121764\n",
       "Success                0\n",
       "Ransom             94037\n",
       "Ransom_Amount     169071\n",
       "Ransom_Paid       169643\n",
       "INT_ANY                0\n",
       "Casualties         15826\n",
       "dtype: int64"
      ]
     },
     "execution_count": 6,
     "metadata": {},
     "output_type": "execute_result"
    }
   ],
   "source": [
    "terror.isnull().sum()"
   ]
  },
  {
   "cell_type": "code",
   "execution_count": 7,
   "metadata": {
    "collapsed": true
   },
   "outputs": [],
   "source": [
    "terror.Ransom.fillna(0,inplace=True)"
   ]
  },
  {
   "cell_type": "code",
   "execution_count": 8,
   "metadata": {},
   "outputs": [
    {
     "name": "stdout",
     "output_type": "stream",
     "text": [
      "Total successful terrorist attacks:  152701\n",
      "Total unsuccessful terrorist attacks:  17649\n",
      "Total success rate:  89.64%\n"
     ]
    }
   ],
   "source": [
    "successful = terror['Success'].value_counts().tolist()\n",
    "top_countries = terror['Country'].value_counts()[:10].keys().tolist()\n",
    "\n",
    "print('Total successful terrorist attacks: ',successful[0])\n",
    "print('Total unsuccessful terrorist attacks: ',successful[1])\n",
    "print('Total success rate: ',\"{0:.2f}\".format((successful[0]/(successful[0]+successful[1]))*100)+'%')"
   ]
  },
  {
   "cell_type": "markdown",
   "metadata": {},
   "source": [
    "# Define Populations - Pakistan and India"
   ]
  },
  {
   "cell_type": "code",
   "execution_count": 9,
   "metadata": {},
   "outputs": [
    {
     "data": {
      "text/html": [
       "<div>\n",
       "<table border=\"1\" class=\"dataframe\">\n",
       "  <thead>\n",
       "    <tr style=\"text-align: right;\">\n",
       "      <th></th>\n",
       "      <th>Year</th>\n",
       "      <th>Month</th>\n",
       "      <th>Day</th>\n",
       "      <th>Country</th>\n",
       "      <th>Region</th>\n",
       "      <th>City</th>\n",
       "      <th>Latitude</th>\n",
       "      <th>Longitude</th>\n",
       "      <th>AttackTypeText</th>\n",
       "      <th>AttackType</th>\n",
       "      <th>...</th>\n",
       "      <th>Group</th>\n",
       "      <th>Target_Type</th>\n",
       "      <th>Weapon_Type</th>\n",
       "      <th>Motive</th>\n",
       "      <th>Success</th>\n",
       "      <th>Ransom</th>\n",
       "      <th>Ransom_Amount</th>\n",
       "      <th>Ransom_Paid</th>\n",
       "      <th>INT_ANY</th>\n",
       "      <th>Casualties</th>\n",
       "    </tr>\n",
       "  </thead>\n",
       "  <tbody>\n",
       "    <tr>\n",
       "      <th>585</th>\n",
       "      <td>1970</td>\n",
       "      <td>11</td>\n",
       "      <td>1</td>\n",
       "      <td>Pakistan</td>\n",
       "      <td>South Asia</td>\n",
       "      <td>Karachi</td>\n",
       "      <td>24.893379</td>\n",
       "      <td>67.028061</td>\n",
       "      <td>Assassination</td>\n",
       "      <td>1</td>\n",
       "      <td>...</td>\n",
       "      <td>Unknown</td>\n",
       "      <td>Government (General)</td>\n",
       "      <td>Vehicle (not to include vehicle-borne explosiv...</td>\n",
       "      <td>NaN</td>\n",
       "      <td>1</td>\n",
       "      <td>0.0</td>\n",
       "      <td>NaN</td>\n",
       "      <td>NaN</td>\n",
       "      <td>1</td>\n",
       "      <td>1.0</td>\n",
       "    </tr>\n",
       "    <tr>\n",
       "      <th>2144</th>\n",
       "      <td>1974</td>\n",
       "      <td>2</td>\n",
       "      <td>2</td>\n",
       "      <td>Pakistan</td>\n",
       "      <td>South Asia</td>\n",
       "      <td>Karachi</td>\n",
       "      <td>24.893379</td>\n",
       "      <td>67.028061</td>\n",
       "      <td>Bombing/Explosion</td>\n",
       "      <td>3</td>\n",
       "      <td>...</td>\n",
       "      <td>Muslim Guerrillas</td>\n",
       "      <td>Maritime</td>\n",
       "      <td>Firearms</td>\n",
       "      <td>NaN</td>\n",
       "      <td>1</td>\n",
       "      <td>0.0</td>\n",
       "      <td>NaN</td>\n",
       "      <td>NaN</td>\n",
       "      <td>1</td>\n",
       "      <td>0.0</td>\n",
       "    </tr>\n",
       "    <tr>\n",
       "      <th>2632</th>\n",
       "      <td>1974</td>\n",
       "      <td>12</td>\n",
       "      <td>9</td>\n",
       "      <td>Pakistan</td>\n",
       "      <td>South Asia</td>\n",
       "      <td>Peshawar</td>\n",
       "      <td>34.009667</td>\n",
       "      <td>71.579994</td>\n",
       "      <td>Bombing/Explosion</td>\n",
       "      <td>3</td>\n",
       "      <td>...</td>\n",
       "      <td>Unknown</td>\n",
       "      <td>Government (Diplomatic)</td>\n",
       "      <td>Explosives/Bombs/Dynamite</td>\n",
       "      <td>NaN</td>\n",
       "      <td>1</td>\n",
       "      <td>0.0</td>\n",
       "      <td>NaN</td>\n",
       "      <td>NaN</td>\n",
       "      <td>1</td>\n",
       "      <td>2.0</td>\n",
       "    </tr>\n",
       "  </tbody>\n",
       "</table>\n",
       "<p>3 rows × 24 columns</p>\n",
       "</div>"
      ],
      "text/plain": [
       "      Year  Month  Day   Country      Region      City   Latitude  Longitude  \\\n",
       "585   1970     11    1  Pakistan  South Asia   Karachi  24.893379  67.028061   \n",
       "2144  1974      2    2  Pakistan  South Asia   Karachi  24.893379  67.028061   \n",
       "2632  1974     12    9  Pakistan  South Asia  Peshawar  34.009667  71.579994   \n",
       "\n",
       "         AttackTypeText  AttackType     ...                  Group  \\\n",
       "585       Assassination           1     ...                Unknown   \n",
       "2144  Bombing/Explosion           3     ...      Muslim Guerrillas   \n",
       "2632  Bombing/Explosion           3     ...                Unknown   \n",
       "\n",
       "                  Target_Type  \\\n",
       "585      Government (General)   \n",
       "2144                 Maritime   \n",
       "2632  Government (Diplomatic)   \n",
       "\n",
       "                                            Weapon_Type Motive Success Ransom  \\\n",
       "585   Vehicle (not to include vehicle-borne explosiv...    NaN       1    0.0   \n",
       "2144                                           Firearms    NaN       1    0.0   \n",
       "2632                          Explosives/Bombs/Dynamite    NaN       1    0.0   \n",
       "\n",
       "     Ransom_Amount Ransom_Paid  INT_ANY  Casualties  \n",
       "585            NaN         NaN        1         1.0  \n",
       "2144           NaN         NaN        1         0.0  \n",
       "2632           NaN         NaN        1         2.0  \n",
       "\n",
       "[3 rows x 24 columns]"
      ]
     },
     "execution_count": 9,
     "metadata": {},
     "output_type": "execute_result"
    }
   ],
   "source": [
    "pakistan = terror[terror['Country'] == 'Pakistan']\n",
    "pakistan.head(3)"
   ]
  },
  {
   "cell_type": "code",
   "execution_count": 10,
   "metadata": {
    "scrolled": true
   },
   "outputs": [
    {
     "name": "stdout",
     "output_type": "stream",
     "text": [
      "Total successful terrorist attacks:  12032\n",
      "Total unsuccessful terrorist attacks:  1602\n",
      "Total success rate:  88.25%\n"
     ]
    }
   ],
   "source": [
    "pakistan_success = pakistan['Success'].value_counts().tolist()\n",
    "\n",
    "print('Total successful terrorist attacks: ',pakistan_success[0])\n",
    "print('Total unsuccessful terrorist attacks: ',pakistan_success[1])\n",
    "print('Total success rate: ',\"{0:.2f}\".format((pakistan_success[0]/(pakistan_success[0]+pakistan_success[1]))*100)+'%')"
   ]
  },
  {
   "cell_type": "code",
   "execution_count": 11,
   "metadata": {
    "scrolled": true
   },
   "outputs": [
    {
     "data": {
      "text/plain": [
       "(13634, 24)"
      ]
     },
     "execution_count": 11,
     "metadata": {},
     "output_type": "execute_result"
    }
   ],
   "source": [
    "pakistan.shape"
   ]
  },
  {
   "cell_type": "code",
   "execution_count": 12,
   "metadata": {},
   "outputs": [
    {
     "data": {
      "text/plain": [
       "21"
      ]
     },
     "execution_count": 12,
     "metadata": {},
     "output_type": "execute_result"
    }
   ],
   "source": [
    "len(pakistan.Target_Type.unique())"
   ]
  },
  {
   "cell_type": "code",
   "execution_count": 13,
   "metadata": {},
   "outputs": [
    {
     "data": {
      "text/html": [
       "<div>\n",
       "<table border=\"1\" class=\"dataframe\">\n",
       "  <thead>\n",
       "    <tr style=\"text-align: right;\">\n",
       "      <th></th>\n",
       "      <th>Year</th>\n",
       "      <th>Month</th>\n",
       "      <th>Day</th>\n",
       "      <th>Latitude</th>\n",
       "      <th>Longitude</th>\n",
       "      <th>AttackType</th>\n",
       "      <th>Killed</th>\n",
       "      <th>Wounded</th>\n",
       "      <th>Success</th>\n",
       "      <th>Ransom</th>\n",
       "      <th>Ransom_Amount</th>\n",
       "      <th>Ransom_Paid</th>\n",
       "      <th>INT_ANY</th>\n",
       "      <th>Casualties</th>\n",
       "    </tr>\n",
       "  </thead>\n",
       "  <tbody>\n",
       "    <tr>\n",
       "      <th>count</th>\n",
       "      <td>13634.000000</td>\n",
       "      <td>13634.000000</td>\n",
       "      <td>13634.000000</td>\n",
       "      <td>13586.000000</td>\n",
       "      <td>13586.000000</td>\n",
       "      <td>13634.000000</td>\n",
       "      <td>13399.000000</td>\n",
       "      <td>13187.000000</td>\n",
       "      <td>13634.000000</td>\n",
       "      <td>13634.000000</td>\n",
       "      <td>4.700000e+01</td>\n",
       "      <td>3.300000e+01</td>\n",
       "      <td>13634.000000</td>\n",
       "      <td>13159.000000</td>\n",
       "    </tr>\n",
       "    <tr>\n",
       "      <th>mean</th>\n",
       "      <td>2009.679918</td>\n",
       "      <td>6.378466</td>\n",
       "      <td>15.471028</td>\n",
       "      <td>30.466443</td>\n",
       "      <td>69.394667</td>\n",
       "      <td>2.925847</td>\n",
       "      <td>1.696694</td>\n",
       "      <td>3.027603</td>\n",
       "      <td>0.882500</td>\n",
       "      <td>-0.135397</td>\n",
       "      <td>1.777864e+06</td>\n",
       "      <td>1.173228e+05</td>\n",
       "      <td>-6.757738</td>\n",
       "      <td>4.653849</td>\n",
       "    </tr>\n",
       "    <tr>\n",
       "      <th>std</th>\n",
       "      <td>6.941991</td>\n",
       "      <td>3.462525</td>\n",
       "      <td>8.849347</td>\n",
       "      <td>3.702016</td>\n",
       "      <td>2.572666</td>\n",
       "      <td>1.501510</td>\n",
       "      <td>5.506468</td>\n",
       "      <td>11.656492</td>\n",
       "      <td>0.322027</td>\n",
       "      <td>1.110226</td>\n",
       "      <td>5.419398e+06</td>\n",
       "      <td>4.326925e+05</td>\n",
       "      <td>3.955678</td>\n",
       "      <td>16.074818</td>\n",
       "    </tr>\n",
       "    <tr>\n",
       "      <th>min</th>\n",
       "      <td>1970.000000</td>\n",
       "      <td>0.000000</td>\n",
       "      <td>0.000000</td>\n",
       "      <td>24.659220</td>\n",
       "      <td>61.579536</td>\n",
       "      <td>1.000000</td>\n",
       "      <td>0.000000</td>\n",
       "      <td>0.000000</td>\n",
       "      <td>0.000000</td>\n",
       "      <td>-9.000000</td>\n",
       "      <td>-9.900000e+01</td>\n",
       "      <td>-9.900000e+01</td>\n",
       "      <td>-9.000000</td>\n",
       "      <td>0.000000</td>\n",
       "    </tr>\n",
       "    <tr>\n",
       "      <th>25%</th>\n",
       "      <td>2009.000000</td>\n",
       "      <td>3.000000</td>\n",
       "      <td>8.000000</td>\n",
       "      <td>26.633602</td>\n",
       "      <td>67.028061</td>\n",
       "      <td>2.000000</td>\n",
       "      <td>0.000000</td>\n",
       "      <td>0.000000</td>\n",
       "      <td>1.000000</td>\n",
       "      <td>0.000000</td>\n",
       "      <td>-9.900000e+01</td>\n",
       "      <td>-9.900000e+01</td>\n",
       "      <td>-9.000000</td>\n",
       "      <td>0.000000</td>\n",
       "    </tr>\n",
       "    <tr>\n",
       "      <th>50%</th>\n",
       "      <td>2012.000000</td>\n",
       "      <td>6.000000</td>\n",
       "      <td>15.000000</td>\n",
       "      <td>31.527031</td>\n",
       "      <td>69.920086</td>\n",
       "      <td>3.000000</td>\n",
       "      <td>0.000000</td>\n",
       "      <td>0.000000</td>\n",
       "      <td>1.000000</td>\n",
       "      <td>0.000000</td>\n",
       "      <td>6.000000e+04</td>\n",
       "      <td>0.000000e+00</td>\n",
       "      <td>-9.000000</td>\n",
       "      <td>1.000000</td>\n",
       "    </tr>\n",
       "    <tr>\n",
       "      <th>75%</th>\n",
       "      <td>2014.000000</td>\n",
       "      <td>9.000000</td>\n",
       "      <td>23.000000</td>\n",
       "      <td>33.986111</td>\n",
       "      <td>71.496152</td>\n",
       "      <td>3.000000</td>\n",
       "      <td>1.000000</td>\n",
       "      <td>2.000000</td>\n",
       "      <td>1.000000</td>\n",
       "      <td>0.000000</td>\n",
       "      <td>5.077365e+05</td>\n",
       "      <td>0.000000e+00</td>\n",
       "      <td>-9.000000</td>\n",
       "      <td>3.000000</td>\n",
       "    </tr>\n",
       "    <tr>\n",
       "      <th>max</th>\n",
       "      <td>2016.000000</td>\n",
       "      <td>12.000000</td>\n",
       "      <td>31.000000</td>\n",
       "      <td>36.533278</td>\n",
       "      <td>76.540559</td>\n",
       "      <td>9.000000</td>\n",
       "      <td>158.000000</td>\n",
       "      <td>351.000000</td>\n",
       "      <td>1.000000</td>\n",
       "      <td>1.000000</td>\n",
       "      <td>3.000000e+07</td>\n",
       "      <td>2.435400e+06</td>\n",
       "      <td>1.000000</td>\n",
       "      <td>430.000000</td>\n",
       "    </tr>\n",
       "  </tbody>\n",
       "</table>\n",
       "</div>"
      ],
      "text/plain": [
       "               Year         Month           Day      Latitude     Longitude  \\\n",
       "count  13634.000000  13634.000000  13634.000000  13586.000000  13586.000000   \n",
       "mean    2009.679918      6.378466     15.471028     30.466443     69.394667   \n",
       "std        6.941991      3.462525      8.849347      3.702016      2.572666   \n",
       "min     1970.000000      0.000000      0.000000     24.659220     61.579536   \n",
       "25%     2009.000000      3.000000      8.000000     26.633602     67.028061   \n",
       "50%     2012.000000      6.000000     15.000000     31.527031     69.920086   \n",
       "75%     2014.000000      9.000000     23.000000     33.986111     71.496152   \n",
       "max     2016.000000     12.000000     31.000000     36.533278     76.540559   \n",
       "\n",
       "         AttackType        Killed       Wounded       Success        Ransom  \\\n",
       "count  13634.000000  13399.000000  13187.000000  13634.000000  13634.000000   \n",
       "mean       2.925847      1.696694      3.027603      0.882500     -0.135397   \n",
       "std        1.501510      5.506468     11.656492      0.322027      1.110226   \n",
       "min        1.000000      0.000000      0.000000      0.000000     -9.000000   \n",
       "25%        2.000000      0.000000      0.000000      1.000000      0.000000   \n",
       "50%        3.000000      0.000000      0.000000      1.000000      0.000000   \n",
       "75%        3.000000      1.000000      2.000000      1.000000      0.000000   \n",
       "max        9.000000    158.000000    351.000000      1.000000      1.000000   \n",
       "\n",
       "       Ransom_Amount   Ransom_Paid       INT_ANY    Casualties  \n",
       "count   4.700000e+01  3.300000e+01  13634.000000  13159.000000  \n",
       "mean    1.777864e+06  1.173228e+05     -6.757738      4.653849  \n",
       "std     5.419398e+06  4.326925e+05      3.955678     16.074818  \n",
       "min    -9.900000e+01 -9.900000e+01     -9.000000      0.000000  \n",
       "25%    -9.900000e+01 -9.900000e+01     -9.000000      0.000000  \n",
       "50%     6.000000e+04  0.000000e+00     -9.000000      1.000000  \n",
       "75%     5.077365e+05  0.000000e+00     -9.000000      3.000000  \n",
       "max     3.000000e+07  2.435400e+06      1.000000    430.000000  "
      ]
     },
     "execution_count": 13,
     "metadata": {},
     "output_type": "execute_result"
    }
   ],
   "source": [
    "pakistan.describe()"
   ]
  },
  {
   "cell_type": "code",
   "execution_count": 14,
   "metadata": {},
   "outputs": [
    {
     "data": {
      "text/html": [
       "<div>\n",
       "<table border=\"1\" class=\"dataframe\">\n",
       "  <thead>\n",
       "    <tr style=\"text-align: right;\">\n",
       "      <th></th>\n",
       "      <th>Year</th>\n",
       "      <th>Month</th>\n",
       "      <th>Day</th>\n",
       "      <th>Country</th>\n",
       "      <th>Region</th>\n",
       "      <th>City</th>\n",
       "      <th>Latitude</th>\n",
       "      <th>Longitude</th>\n",
       "      <th>AttackTypeText</th>\n",
       "      <th>AttackType</th>\n",
       "      <th>...</th>\n",
       "      <th>Group</th>\n",
       "      <th>Target_Type</th>\n",
       "      <th>Weapon_Type</th>\n",
       "      <th>Motive</th>\n",
       "      <th>Success</th>\n",
       "      <th>Ransom</th>\n",
       "      <th>Ransom_Amount</th>\n",
       "      <th>Ransom_Paid</th>\n",
       "      <th>INT_ANY</th>\n",
       "      <th>Casualties</th>\n",
       "    </tr>\n",
       "  </thead>\n",
       "  <tbody>\n",
       "    <tr>\n",
       "      <th>1185</th>\n",
       "      <td>1972</td>\n",
       "      <td>2</td>\n",
       "      <td>22</td>\n",
       "      <td>India</td>\n",
       "      <td>South Asia</td>\n",
       "      <td>New Delhi</td>\n",
       "      <td>28.632381</td>\n",
       "      <td>77.220004</td>\n",
       "      <td>Hijacking</td>\n",
       "      <td>4</td>\n",
       "      <td>...</td>\n",
       "      <td>Palestinians</td>\n",
       "      <td>Airports &amp; Aircraft</td>\n",
       "      <td>Explosives/Bombs/Dynamite</td>\n",
       "      <td>NaN</td>\n",
       "      <td>1</td>\n",
       "      <td>1.0</td>\n",
       "      <td>5000000.0</td>\n",
       "      <td>NaN</td>\n",
       "      <td>1</td>\n",
       "      <td>0.0</td>\n",
       "    </tr>\n",
       "    <tr>\n",
       "      <th>2690</th>\n",
       "      <td>1975</td>\n",
       "      <td>1</td>\n",
       "      <td>2</td>\n",
       "      <td>India</td>\n",
       "      <td>South Asia</td>\n",
       "      <td>Samastipur</td>\n",
       "      <td>25.863042</td>\n",
       "      <td>85.781004</td>\n",
       "      <td>Bombing/Explosion</td>\n",
       "      <td>3</td>\n",
       "      <td>...</td>\n",
       "      <td>Ananda Marga</td>\n",
       "      <td>Government (General)</td>\n",
       "      <td>Explosives/Bombs/Dynamite</td>\n",
       "      <td>Unknown</td>\n",
       "      <td>1</td>\n",
       "      <td>0.0</td>\n",
       "      <td>NaN</td>\n",
       "      <td>NaN</td>\n",
       "      <td>0</td>\n",
       "      <td>4.0</td>\n",
       "    </tr>\n",
       "    <tr>\n",
       "      <th>3782</th>\n",
       "      <td>1976</td>\n",
       "      <td>5</td>\n",
       "      <td>26</td>\n",
       "      <td>India</td>\n",
       "      <td>South Asia</td>\n",
       "      <td>New Delhi</td>\n",
       "      <td>28.632381</td>\n",
       "      <td>77.220004</td>\n",
       "      <td>Bombing/Explosion</td>\n",
       "      <td>3</td>\n",
       "      <td>...</td>\n",
       "      <td>Unknown</td>\n",
       "      <td>Airports &amp; Aircraft</td>\n",
       "      <td>Explosives/Bombs/Dynamite</td>\n",
       "      <td>NaN</td>\n",
       "      <td>1</td>\n",
       "      <td>0.0</td>\n",
       "      <td>NaN</td>\n",
       "      <td>NaN</td>\n",
       "      <td>-9</td>\n",
       "      <td>0.0</td>\n",
       "    </tr>\n",
       "  </tbody>\n",
       "</table>\n",
       "<p>3 rows × 24 columns</p>\n",
       "</div>"
      ],
      "text/plain": [
       "      Year  Month  Day Country      Region        City   Latitude  Longitude  \\\n",
       "1185  1972      2   22   India  South Asia   New Delhi  28.632381  77.220004   \n",
       "2690  1975      1    2   India  South Asia  Samastipur  25.863042  85.781004   \n",
       "3782  1976      5   26   India  South Asia   New Delhi  28.632381  77.220004   \n",
       "\n",
       "         AttackTypeText  AttackType     ...             Group  \\\n",
       "1185          Hijacking           4     ...      Palestinians   \n",
       "2690  Bombing/Explosion           3     ...      Ananda Marga   \n",
       "3782  Bombing/Explosion           3     ...           Unknown   \n",
       "\n",
       "               Target_Type                Weapon_Type   Motive Success Ransom  \\\n",
       "1185   Airports & Aircraft  Explosives/Bombs/Dynamite      NaN       1    1.0   \n",
       "2690  Government (General)  Explosives/Bombs/Dynamite  Unknown       1    0.0   \n",
       "3782   Airports & Aircraft  Explosives/Bombs/Dynamite      NaN       1    0.0   \n",
       "\n",
       "     Ransom_Amount Ransom_Paid  INT_ANY  Casualties  \n",
       "1185     5000000.0         NaN        1         0.0  \n",
       "2690           NaN         NaN        0         4.0  \n",
       "3782           NaN         NaN       -9         0.0  \n",
       "\n",
       "[3 rows x 24 columns]"
      ]
     },
     "execution_count": 14,
     "metadata": {},
     "output_type": "execute_result"
    }
   ],
   "source": [
    "india = terror[terror['Country'] == 'India']\n",
    "india.head(3)"
   ]
  },
  {
   "cell_type": "code",
   "execution_count": 15,
   "metadata": {},
   "outputs": [
    {
     "name": "stdout",
     "output_type": "stream",
     "text": [
      "Total successful terrorist attacks:  9480\n",
      "Total unsuccessful terrorist attacks:  1498\n",
      "Total success rate:  86.35%\n"
     ]
    }
   ],
   "source": [
    "india_success = india['Success'].value_counts().tolist()\n",
    "\n",
    "print('Total successful terrorist attacks: ',india_success[0])\n",
    "print('Total unsuccessful terrorist attacks: ',india_success[1])\n",
    "print('Total success rate: ',\"{0:.2f}\".format((india_success[0]/(india_success[0]+india_success[1]))*100)+'%')"
   ]
  },
  {
   "cell_type": "code",
   "execution_count": 16,
   "metadata": {},
   "outputs": [
    {
     "data": {
      "text/plain": [
       "(10978, 24)"
      ]
     },
     "execution_count": 16,
     "metadata": {},
     "output_type": "execute_result"
    }
   ],
   "source": [
    "india.shape"
   ]
  },
  {
   "cell_type": "code",
   "execution_count": 17,
   "metadata": {},
   "outputs": [
    {
     "data": {
      "text/plain": [
       "21"
      ]
     },
     "execution_count": 17,
     "metadata": {},
     "output_type": "execute_result"
    }
   ],
   "source": [
    "len(india.Target_Type.unique())"
   ]
  },
  {
   "cell_type": "code",
   "execution_count": 18,
   "metadata": {
    "collapsed": true
   },
   "outputs": [],
   "source": [
    "pakistan_dropna = pakistan.dropna()"
   ]
  },
  {
   "cell_type": "markdown",
   "metadata": {},
   "source": [
    "# Start Regression Process - Pakistan\n"
   ]
  },
  {
   "cell_type": "code",
   "execution_count": 19,
   "metadata": {
    "collapsed": true
   },
   "outputs": [],
   "source": [
    "with pm.Model() as pakistan_reg:\n",
    "    intercept = pm.Normal('Intercept', mu=0, sd=1)\n",
    "    beta = pm.Normal('beta', mu=0, sd=10, shape=9)\n",
    "    sigma = pm.HalfNormal('success_std', sd=.3220)\n",
    "    \n",
    "    mu = intercept + (beta[0]*pakistan_dropna['Year']) + (beta[1]*pakistan_dropna['Month']) + (beta[2]*pakistan_dropna['Day']) + (beta[3]*pakistan_dropna['Latitude'])\\\n",
    "    +beta[4]*pakistan_dropna['Longitude'] + (beta[5]*pakistan_dropna['AttackType']) + (beta[6]*pakistan_dropna['Ransom']) + (beta[7]*pakistan_dropna[\"INT_ANY\"]) + (beta[8]*pakistan_dropna['Casualties']) \n",
    "    \n",
    "    success = pm.Normal('Success', mu=mu, sd=sigma, observed=pakistan_dropna['Success'])"
   ]
  },
  {
   "cell_type": "code",
   "execution_count": 20,
   "metadata": {},
   "outputs": [
    {
     "name": "stderr",
     "output_type": "stream",
     "text": [
      "logp = 51.759, ||grad|| = 1,416.9: 100%|██████████| 939/939 [00:00<00:00, 1152.29it/s]     \n",
      "Auto-assigning NUTS sampler...\n",
      "Initializing NUTS using jitter+adapt_diag...\n",
      "/opt/conda/lib/python3.6/site-packages/pymc3/model.py:384: FutureWarning: Conversion of the second argument of issubdtype from `float` to `np.floating` is deprecated. In future, it will be treated as `np.float64 == np.dtype(float).type`.\n",
      "  if not np.issubdtype(var.dtype, float):\n",
      "Multiprocess sampling (2 chains in 2 jobs)\n",
      "NUTS: [success_std_log__, beta, Intercept]\n",
      "100%|██████████| 1000/1000 [22:28<00:00,  1.35s/it]\n",
      "There were 97 divergences after tuning. Increase `target_accept` or reparameterize.\n",
      "The acceptance probability does not match the target. It is 0.7418104321384658, but should be close to 0.95. Try to increase the number of tuning steps.\n",
      "There were 98 divergences after tuning. Increase `target_accept` or reparameterize.\n",
      "The acceptance probability does not match the target. It is 0.7437577884653542, but should be close to 0.95. Try to increase the number of tuning steps.\n",
      "The gelman-rubin statistic is larger than 1.4 for some parameters. The sampler did not converge.\n",
      "The estimated number of effective samples is smaller than 200 for some parameters.\n"
     ]
    }
   ],
   "source": [
    "with pakistan_reg:\n",
    "    start = pm.find_MAP()\n",
    "    trace = pm.sample(start=start, nuts_kwargs={'target_accept' : .95, 'max_treedepth': 15})"
   ]
  },
  {
   "cell_type": "code",
   "execution_count": 21,
   "metadata": {},
   "outputs": [
    {
     "data": {
      "text/plain": [
       "{'Intercept': array(6.0033893e-05),\n",
       " 'beta': array([ 4.95527439e-04, -1.04172458e-04,  6.09182262e-05, -1.13419189e-04,\n",
       "         1.14621814e-04, -3.20793394e-04, -1.54838977e-04, -2.61735862e-05,\n",
       "        -2.93142915e-05]),\n",
       " 'success_std': array(0.00074889),\n",
       " 'success_std_log__': array(-7.19692383)}"
      ]
     },
     "execution_count": 21,
     "metadata": {},
     "output_type": "execute_result"
    }
   ],
   "source": [
    "start"
   ]
  },
  {
   "cell_type": "code",
   "execution_count": 22,
   "metadata": {},
   "outputs": [
    {
     "data": {
      "image/png": "[encoded data removed]",
      "text/plain": [
       "<matplotlib.figure.Figure at 0x7ff3a0042208>"
      ]
     },
     "metadata": {},
     "output_type": "display_data"
    }
   ],
   "source": [
    "pm.traceplot(trace);"
   ]
  },
  {
   "cell_type": "code",
   "execution_count": 23,
   "metadata": {},
   "outputs": [
    {
     "data": {
      "image/png": "[encoded data removed]",
      "text/plain": [
       "<matplotlib.figure.Figure at 0x7ff39ab74160>"
      ]
     },
     "metadata": {},
     "output_type": "display_data"
    }
   ],
   "source": [
    "pm.plot_posterior(trace);"
   ]
  },
  {
   "cell_type": "markdown",
   "metadata": {},
   "source": [
    "# Start Regression Process - India"
   ]
  },
  {
   "cell_type": "code",
   "execution_count": 24,
   "metadata": {},
   "outputs": [
    {
     "data": {
      "text/html": [
       "<div>\n",
       "<table border=\"1\" class=\"dataframe\">\n",
       "  <thead>\n",
       "    <tr style=\"text-align: right;\">\n",
       "      <th></th>\n",
       "      <th>Year</th>\n",
       "      <th>Month</th>\n",
       "      <th>Day</th>\n",
       "      <th>Latitude</th>\n",
       "      <th>Longitude</th>\n",
       "      <th>AttackType</th>\n",
       "      <th>Killed</th>\n",
       "      <th>Wounded</th>\n",
       "      <th>Success</th>\n",
       "      <th>Ransom</th>\n",
       "      <th>Ransom_Amount</th>\n",
       "      <th>Ransom_Paid</th>\n",
       "      <th>INT_ANY</th>\n",
       "      <th>Casualties</th>\n",
       "    </tr>\n",
       "  </thead>\n",
       "  <tbody>\n",
       "    <tr>\n",
       "      <th>count</th>\n",
       "      <td>10978.000000</td>\n",
       "      <td>10978.000000</td>\n",
       "      <td>10978.000000</td>\n",
       "      <td>10822.000000</td>\n",
       "      <td>10822.000000</td>\n",
       "      <td>10978.000000</td>\n",
       "      <td>10774.000000</td>\n",
       "      <td>10565.000000</td>\n",
       "      <td>10978.000000</td>\n",
       "      <td>10978.000000</td>\n",
       "      <td>1.020000e+02</td>\n",
       "      <td>89.000000</td>\n",
       "      <td>10978.000000</td>\n",
       "      <td>10549.000000</td>\n",
       "    </tr>\n",
       "    <tr>\n",
       "      <th>mean</th>\n",
       "      <td>2005.297686</td>\n",
       "      <td>6.452997</td>\n",
       "      <td>15.595919</td>\n",
       "      <td>25.976377</td>\n",
       "      <td>82.795902</td>\n",
       "      <td>3.324831</td>\n",
       "      <td>1.748840</td>\n",
       "      <td>2.673071</td>\n",
       "      <td>0.863545</td>\n",
       "      <td>-0.177901</td>\n",
       "      <td>6.070217e+05</td>\n",
       "      <td>2144.186180</td>\n",
       "      <td>-4.635635</td>\n",
       "      <td>4.349227</td>\n",
       "    </tr>\n",
       "    <tr>\n",
       "      <th>std</th>\n",
       "      <td>9.994802</td>\n",
       "      <td>3.324406</td>\n",
       "      <td>8.776815</td>\n",
       "      <td>5.640235</td>\n",
       "      <td>7.067957</td>\n",
       "      <td>1.968358</td>\n",
       "      <td>4.839601</td>\n",
       "      <td>11.794044</td>\n",
       "      <td>0.343286</td>\n",
       "      <td>1.288330</td>\n",
       "      <td>2.868184e+06</td>\n",
       "      <td>11963.813503</td>\n",
       "      <td>4.578156</td>\n",
       "      <td>14.949807</td>\n",
       "    </tr>\n",
       "    <tr>\n",
       "      <th>min</th>\n",
       "      <td>1972.000000</td>\n",
       "      <td>1.000000</td>\n",
       "      <td>0.000000</td>\n",
       "      <td>8.169375</td>\n",
       "      <td>68.775724</td>\n",
       "      <td>1.000000</td>\n",
       "      <td>0.000000</td>\n",
       "      <td>0.000000</td>\n",
       "      <td>0.000000</td>\n",
       "      <td>-9.000000</td>\n",
       "      <td>-9.900000e+01</td>\n",
       "      <td>-99.000000</td>\n",
       "      <td>-9.000000</td>\n",
       "      <td>0.000000</td>\n",
       "    </tr>\n",
       "    <tr>\n",
       "      <th>25%</th>\n",
       "      <td>1997.000000</td>\n",
       "      <td>4.000000</td>\n",
       "      <td>8.000000</td>\n",
       "      <td>22.610968</td>\n",
       "      <td>75.341218</td>\n",
       "      <td>2.000000</td>\n",
       "      <td>0.000000</td>\n",
       "      <td>0.000000</td>\n",
       "      <td>1.000000</td>\n",
       "      <td>0.000000</td>\n",
       "      <td>-9.900000e+01</td>\n",
       "      <td>-99.000000</td>\n",
       "      <td>-9.000000</td>\n",
       "      <td>0.000000</td>\n",
       "    </tr>\n",
       "    <tr>\n",
       "      <th>50%</th>\n",
       "      <td>2009.000000</td>\n",
       "      <td>6.000000</td>\n",
       "      <td>15.000000</td>\n",
       "      <td>25.305252</td>\n",
       "      <td>81.872425</td>\n",
       "      <td>3.000000</td>\n",
       "      <td>0.000000</td>\n",
       "      <td>0.000000</td>\n",
       "      <td>1.000000</td>\n",
       "      <td>0.000000</td>\n",
       "      <td>1.536900e+04</td>\n",
       "      <td>-99.000000</td>\n",
       "      <td>-9.000000</td>\n",
       "      <td>1.000000</td>\n",
       "    </tr>\n",
       "    <tr>\n",
       "      <th>75%</th>\n",
       "      <td>2014.000000</td>\n",
       "      <td>9.000000</td>\n",
       "      <td>23.000000</td>\n",
       "      <td>31.147131</td>\n",
       "      <td>88.471270</td>\n",
       "      <td>3.000000</td>\n",
       "      <td>1.000000</td>\n",
       "      <td>1.000000</td>\n",
       "      <td>1.000000</td>\n",
       "      <td>0.000000</td>\n",
       "      <td>7.476625e+04</td>\n",
       "      <td>0.000000</td>\n",
       "      <td>0.000000</td>\n",
       "      <td>4.000000</td>\n",
       "    </tr>\n",
       "    <tr>\n",
       "      <th>max</th>\n",
       "      <td>2016.000000</td>\n",
       "      <td>12.000000</td>\n",
       "      <td>31.000000</td>\n",
       "      <td>34.665595</td>\n",
       "      <td>96.644737</td>\n",
       "      <td>9.000000</td>\n",
       "      <td>188.000000</td>\n",
       "      <td>817.000000</td>\n",
       "      <td>1.000000</td>\n",
       "      <td>1.000000</td>\n",
       "      <td>2.500000e+07</td>\n",
       "      <td>79555.000000</td>\n",
       "      <td>1.000000</td>\n",
       "      <td>1005.000000</td>\n",
       "    </tr>\n",
       "  </tbody>\n",
       "</table>\n",
       "</div>"
      ],
      "text/plain": [
       "               Year         Month           Day      Latitude     Longitude  \\\n",
       "count  10978.000000  10978.000000  10978.000000  10822.000000  10822.000000   \n",
       "mean    2005.297686      6.452997     15.595919     25.976377     82.795902   \n",
       "std        9.994802      3.324406      8.776815      5.640235      7.067957   \n",
       "min     1972.000000      1.000000      0.000000      8.169375     68.775724   \n",
       "25%     1997.000000      4.000000      8.000000     22.610968     75.341218   \n",
       "50%     2009.000000      6.000000     15.000000     25.305252     81.872425   \n",
       "75%     2014.000000      9.000000     23.000000     31.147131     88.471270   \n",
       "max     2016.000000     12.000000     31.000000     34.665595     96.644737   \n",
       "\n",
       "         AttackType        Killed       Wounded       Success        Ransom  \\\n",
       "count  10978.000000  10774.000000  10565.000000  10978.000000  10978.000000   \n",
       "mean       3.324831      1.748840      2.673071      0.863545     -0.177901   \n",
       "std        1.968358      4.839601     11.794044      0.343286      1.288330   \n",
       "min        1.000000      0.000000      0.000000      0.000000     -9.000000   \n",
       "25%        2.000000      0.000000      0.000000      1.000000      0.000000   \n",
       "50%        3.000000      0.000000      0.000000      1.000000      0.000000   \n",
       "75%        3.000000      1.000000      1.000000      1.000000      0.000000   \n",
       "max        9.000000    188.000000    817.000000      1.000000      1.000000   \n",
       "\n",
       "       Ransom_Amount   Ransom_Paid       INT_ANY    Casualties  \n",
       "count   1.020000e+02     89.000000  10978.000000  10549.000000  \n",
       "mean    6.070217e+05   2144.186180     -4.635635      4.349227  \n",
       "std     2.868184e+06  11963.813503      4.578156     14.949807  \n",
       "min    -9.900000e+01    -99.000000     -9.000000      0.000000  \n",
       "25%    -9.900000e+01    -99.000000     -9.000000      0.000000  \n",
       "50%     1.536900e+04    -99.000000     -9.000000      1.000000  \n",
       "75%     7.476625e+04      0.000000      0.000000      4.000000  \n",
       "max     2.500000e+07  79555.000000      1.000000   1005.000000  "
      ]
     },
     "execution_count": 24,
     "metadata": {},
     "output_type": "execute_result"
    }
   ],
   "source": [
    "india.describe()"
   ]
  },
  {
   "cell_type": "code",
   "execution_count": 25,
   "metadata": {},
   "outputs": [
    {
     "data": {
      "text/html": [
       "<div>\n",
       "<table border=\"1\" class=\"dataframe\">\n",
       "  <thead>\n",
       "    <tr style=\"text-align: right;\">\n",
       "      <th></th>\n",
       "      <th>Year</th>\n",
       "      <th>Month</th>\n",
       "      <th>Day</th>\n",
       "      <th>Country</th>\n",
       "      <th>Region</th>\n",
       "      <th>City</th>\n",
       "      <th>Latitude</th>\n",
       "      <th>Longitude</th>\n",
       "      <th>AttackTypeText</th>\n",
       "      <th>AttackType</th>\n",
       "      <th>...</th>\n",
       "      <th>Group</th>\n",
       "      <th>Target_Type</th>\n",
       "      <th>Weapon_Type</th>\n",
       "      <th>Motive</th>\n",
       "      <th>Success</th>\n",
       "      <th>Ransom</th>\n",
       "      <th>Ransom_Amount</th>\n",
       "      <th>Ransom_Paid</th>\n",
       "      <th>INT_ANY</th>\n",
       "      <th>Casualties</th>\n",
       "    </tr>\n",
       "  </thead>\n",
       "  <tbody>\n",
       "    <tr>\n",
       "      <th>69208</th>\n",
       "      <td>1999</td>\n",
       "      <td>8</td>\n",
       "      <td>3</td>\n",
       "      <td>India</td>\n",
       "      <td>South Asia</td>\n",
       "      <td>Guwahati</td>\n",
       "      <td>26.179222</td>\n",
       "      <td>91.753346</td>\n",
       "      <td>Hostage Taking (Kidnapping)</td>\n",
       "      <td>6</td>\n",
       "      <td>...</td>\n",
       "      <td>Dima Halao Daoga (DHD)</td>\n",
       "      <td>Business</td>\n",
       "      <td>Firearms</td>\n",
       "      <td>To obtain ransom money.</td>\n",
       "      <td>1</td>\n",
       "      <td>1.0</td>\n",
       "      <td>-99.0</td>\n",
       "      <td>-99.0</td>\n",
       "      <td>0</td>\n",
       "      <td>0.0</td>\n",
       "    </tr>\n",
       "    <tr>\n",
       "      <th>69217</th>\n",
       "      <td>1999</td>\n",
       "      <td>8</td>\n",
       "      <td>4</td>\n",
       "      <td>India</td>\n",
       "      <td>South Asia</td>\n",
       "      <td>Guwahati</td>\n",
       "      <td>26.179222</td>\n",
       "      <td>91.753346</td>\n",
       "      <td>Hostage Taking (Kidnapping)</td>\n",
       "      <td>6</td>\n",
       "      <td>...</td>\n",
       "      <td>Dima Halao Daoga (DHD)</td>\n",
       "      <td>Business</td>\n",
       "      <td>Firearms</td>\n",
       "      <td>To obtain ransom money.</td>\n",
       "      <td>1</td>\n",
       "      <td>1.0</td>\n",
       "      <td>-99.0</td>\n",
       "      <td>-99.0</td>\n",
       "      <td>0</td>\n",
       "      <td>0.0</td>\n",
       "    </tr>\n",
       "    <tr>\n",
       "      <th>69223</th>\n",
       "      <td>1999</td>\n",
       "      <td>8</td>\n",
       "      <td>5</td>\n",
       "      <td>India</td>\n",
       "      <td>South Asia</td>\n",
       "      <td>Kotkapura</td>\n",
       "      <td>30.580791</td>\n",
       "      <td>74.824222</td>\n",
       "      <td>Hostage Taking (Kidnapping)</td>\n",
       "      <td>6</td>\n",
       "      <td>...</td>\n",
       "      <td>Khalistan Liberation Force</td>\n",
       "      <td>Private Citizens &amp; Property</td>\n",
       "      <td>Firearms</td>\n",
       "      <td>To make money for future terrorist attacks.</td>\n",
       "      <td>1</td>\n",
       "      <td>1.0</td>\n",
       "      <td>-99.0</td>\n",
       "      <td>-99.0</td>\n",
       "      <td>0</td>\n",
       "      <td>0.0</td>\n",
       "    </tr>\n",
       "  </tbody>\n",
       "</table>\n",
       "<p>3 rows × 24 columns</p>\n",
       "</div>"
      ],
      "text/plain": [
       "       Year  Month  Day Country      Region       City   Latitude  Longitude  \\\n",
       "69208  1999      8    3   India  South Asia   Guwahati  26.179222  91.753346   \n",
       "69217  1999      8    4   India  South Asia   Guwahati  26.179222  91.753346   \n",
       "69223  1999      8    5   India  South Asia  Kotkapura  30.580791  74.824222   \n",
       "\n",
       "                    AttackTypeText  AttackType     ...      \\\n",
       "69208  Hostage Taking (Kidnapping)           6     ...       \n",
       "69217  Hostage Taking (Kidnapping)           6     ...       \n",
       "69223  Hostage Taking (Kidnapping)           6     ...       \n",
       "\n",
       "                            Group                  Target_Type Weapon_Type  \\\n",
       "69208      Dima Halao Daoga (DHD)                     Business    Firearms   \n",
       "69217      Dima Halao Daoga (DHD)                     Business    Firearms   \n",
       "69223  Khalistan Liberation Force  Private Citizens & Property    Firearms   \n",
       "\n",
       "                                            Motive Success Ransom  \\\n",
       "69208                      To obtain ransom money.       1    1.0   \n",
       "69217                      To obtain ransom money.       1    1.0   \n",
       "69223  To make money for future terrorist attacks.       1    1.0   \n",
       "\n",
       "      Ransom_Amount Ransom_Paid  INT_ANY  Casualties  \n",
       "69208         -99.0       -99.0        0         0.0  \n",
       "69217         -99.0       -99.0        0         0.0  \n",
       "69223         -99.0       -99.0        0         0.0  \n",
       "\n",
       "[3 rows x 24 columns]"
      ]
     },
     "execution_count": 25,
     "metadata": {},
     "output_type": "execute_result"
    }
   ],
   "source": [
    "india_dropna = india.dropna()\n",
    "india_dropna.head(3)"
   ]
  },
  {
   "cell_type": "code",
   "execution_count": 26,
   "metadata": {
    "collapsed": true
   },
   "outputs": [],
   "source": [
    "with pm.Model() as india_reg:\n",
    "    intercept = pm.Normal('Intercept', mu=0, sd=1)\n",
    "    beta = pm.Normal('beta', mu=0, sd=10, shape=9)\n",
    "    sigma = pm.HalfNormal('success_std', sd=.3432)\n",
    "    \n",
    "    mu = intercept + (beta[0]*india_dropna['Year']) + (beta[1]*india_dropna['Month']) + (beta[2]*india_dropna['Day']) + (beta[3]*india_dropna['Latitude'])\\\n",
    "    +beta[4]*india_dropna['Longitude'] + (beta[5]*india_dropna['AttackType']) + (beta[6]*india_dropna['Ransom']) + (beta[7]*india_dropna[\"INT_ANY\"]) + (beta[8]*india_dropna['Casualties']) \n",
    "    \n",
    "    success = pm.Normal('Success', mu=mu, sd=sigma, observed=india_dropna['Success'])"
   ]
  },
  {
   "cell_type": "code",
   "execution_count": 27,
   "metadata": {},
   "outputs": [
    {
     "name": "stderr",
     "output_type": "stream",
     "text": [
      "logp = 209, ||grad|| = 605.47: 100%|██████████| 604/604 [00:00<00:00, 1308.34it/s]        \n",
      "Auto-assigning NUTS sampler...\n",
      "Initializing NUTS using jitter+adapt_diag...\n",
      "/opt/conda/lib/python3.6/site-packages/pymc3/model.py:384: FutureWarning: Conversion of the second argument of issubdtype from `float` to `np.floating` is deprecated. In future, it will be treated as `np.float64 == np.dtype(float).type`.\n",
      "  if not np.issubdtype(var.dtype, float):\n",
      "Multiprocess sampling (2 chains in 2 jobs)\n",
      "NUTS: [success_std_log__, beta, Intercept]\n",
      "100%|██████████| 1000/1000 [16:47<00:00,  1.01s/it]\n",
      "There were 100 divergences after tuning. Increase `target_accept` or reparameterize.\n",
      "The acceptance probability does not match the target. It is 0.4774992965619497, but should be close to 0.95. Try to increase the number of tuning steps.\n",
      "There were 156 divergences after tuning. Increase `target_accept` or reparameterize.\n",
      "The acceptance probability does not match the target. It is 0.4203934198161476, but should be close to 0.95. Try to increase the number of tuning steps.\n",
      "The gelman-rubin statistic is larger than 1.4 for some parameters. The sampler did not converge.\n",
      "The estimated number of effective samples is smaller than 200 for some parameters.\n"
     ]
    }
   ],
   "source": [
    "with india_reg:\n",
    "    start = pm.find_MAP()\n",
    "    trace = pm.sample(start=start, nuts_kwargs={'target_accept' : .95, 'max_treedepth': 15})"
   ]
  },
  {
   "cell_type": "code",
   "execution_count": 28,
   "metadata": {},
   "outputs": [
    {
     "data": {
      "text/plain": [
       "{'Intercept': array(0.00042257),\n",
       " 'beta': array([ 5.09765886e-04,  1.17024710e-04, -2.25257303e-05, -5.29089546e-05,\n",
       "        -2.40017325e-04, -4.84209815e-04,  4.49791960e-05,  7.38932219e-05,\n",
       "         1.11541432e-04]),\n",
       " 'success_std': array(0.00249767),\n",
       " 'success_std_log__': array(-5.99239632)}"
      ]
     },
     "execution_count": 28,
     "metadata": {},
     "output_type": "execute_result"
    }
   ],
   "source": [
    "start"
   ]
  },
  {
   "cell_type": "code",
   "execution_count": 29,
   "metadata": {},
   "outputs": [
    {
     "data": {
      "image/png": "[encoded data removed]",
      "text/plain": [
       "<matplotlib.figure.Figure at 0x7ff3901af1d0>"
      ]
     },
     "metadata": {},
     "output_type": "display_data"
    }
   ],
   "source": [
    "pm.traceplot(trace);"
   ]
  },
  {
   "cell_type": "code",
   "execution_count": 30,
   "metadata": {},
   "outputs": [
    {
     "data": {
      "image/png": "[encoded data removed]",
      "text/plain": [
       "<matplotlib.figure.Figure at 0x7ff3800c1dd8>"
      ]
     },
     "metadata": {},
     "output_type": "display_data"
    }
   ],
   "source": [
    "pm.plot_posterior(trace);"
   ]
  },
  {
   "cell_type": "markdown",
   "metadata": {},
   "source": [
    "## Second and First Intifada - 1987 - 2005"
   ]
  },
  {
   "cell_type": "code",
   "execution_count": 31,
   "metadata": {
    "collapsed": true
   },
   "outputs": [],
   "source": [
    "intifada = terror[(terror.Year < 2005) & (terror.Year > 1987)]"
   ]
  },
  {
   "cell_type": "code",
   "execution_count": null,
   "metadata": {},
   "outputs": [],
   "source": []
  },
  {
   "cell_type": "code",
   "execution_count": null,
   "metadata": {
    "collapsed": true
   },
   "outputs": [],
   "source": [
    "intifada.Casualities.std()"
   ]
  },
  {
   "cell_type": "code",
   "execution_count": null,
   "metadata": {
    "collapsed": true
   },
   "outputs": [],
   "source": [
    "intifada.head(3)"
   ]
  },
  {
   "cell_type": "code",
   "execution_count": null,
   "metadata": {
    "collapsed": true
   },
   "outputs": [],
   "source": [
    "intifada_prior = intifada[['Year', 'Country', 'AttackType', 'Casualties', 'Ransom', 'INT_ANY', 'Latitude','Longitude']]\n"
   ]
  },
  {
   "cell_type": "code",
   "execution_count": null,
   "metadata": {
    "collapsed": true
   },
   "outputs": [],
   "source": [
    "intifada_prior_dummies = pd.get_dummies(intifada_prior)"
   ]
  },
  {
   "cell_type": "code",
   "execution_count": null,
   "metadata": {
    "collapsed": true,
    "scrolled": true
   },
   "outputs": [],
   "source": [
    "intifada_prior_dummies.columns"
   ]
  },
  {
   "cell_type": "code",
   "execution_count": null,
   "metadata": {
    "collapsed": true
   },
   "outputs": [],
   "source": [
    "intifada_prior_dummies.dropna(inplace=True)"
   ]
  },
  {
   "cell_type": "code",
   "execution_count": null,
   "metadata": {
    "collapsed": true
   },
   "outputs": [],
   "source": [
    "intifada_prior_scaled = StandardScaler().fit_transform(intifada_prior_dummies)"
   ]
  },
  {
   "cell_type": "code",
   "execution_count": null,
   "metadata": {
    "collapsed": true
   },
   "outputs": [],
   "source": [
    "lebanon = intifada[(intifada.Country == 'Lebanon')]\n",
    "israel = intifada[(intifada.Country == 'Israel')]"
   ]
  },
  {
   "cell_type": "code",
   "execution_count": null,
   "metadata": {
    "collapsed": true
   },
   "outputs": [],
   "source": [
    "intifada = pd.concat((lebanon, israel)).reset_index(drop=False)"
   ]
  },
  {
   "cell_type": "code",
   "execution_count": null,
   "metadata": {
    "collapsed": true
   },
   "outputs": [],
   "source": [
    "intifada.shape"
   ]
  },
  {
   "cell_type": "code",
   "execution_count": null,
   "metadata": {
    "collapsed": true
   },
   "outputs": [],
   "source": [
    "intifada = intifada[['Year', 'Country', 'AttackType', 'Casualties', 'Ransom', 'INT_ANY', 'Latitude','Longitude']]"
   ]
  },
  {
   "cell_type": "code",
   "execution_count": null,
   "metadata": {
    "collapsed": true
   },
   "outputs": [],
   "source": [
    "dummies = pd.get_dummies(intifada)"
   ]
  },
  {
   "cell_type": "code",
   "execution_count": null,
   "metadata": {
    "collapsed": true
   },
   "outputs": [],
   "source": [
    "dummies.dropna(inplace=True)"
   ]
  },
  {
   "cell_type": "code",
   "execution_count": null,
   "metadata": {
    "collapsed": true
   },
   "outputs": [],
   "source": [
    "dummies.columns"
   ]
  },
  {
   "cell_type": "code",
   "execution_count": null,
   "metadata": {
    "collapsed": true
   },
   "outputs": [],
   "source": [
    "intifada_scaled = StandardScaler().fit_transform(dummies)"
   ]
  },
  {
   "cell_type": "code",
   "execution_count": null,
   "metadata": {
    "collapsed": true
   },
   "outputs": [],
   "source": [
    "intifada_scaled = pd.DataFrame(intifada_scaled, columns=['Year', 'AttackType', 'Casualties', 'Ransom', 'INT_ANY', 'Latitude','Longitude', 'Country_Israel', 'Country_Lebanon'])"
   ]
  },
  {
   "cell_type": "code",
   "execution_count": null,
   "metadata": {
    "collapsed": true
   },
   "outputs": [],
   "source": [
    "intifada_scaled.head()"
   ]
  },
  {
   "cell_type": "code",
   "execution_count": null,
   "metadata": {
    "collapsed": true
   },
   "outputs": [],
   "source": [
    "with pm.Model() as model:\n",
    "\n",
    "    intercept = pm.Normal('intercept', mu=0, sd=10)\n",
    "    beta = pm.Normal('beta', mu=0, sd=1, shape=8)\n",
    "    sigma = pm.HalfNormal('sigma', sd=1)\n",
    "\n",
    "    mu = intercept + beta[0]*intifada_scaled['Year'] + \\\n",
    "          beta[1]*intifada_scaled['Country_Israel'] + beta[2]*intifada_scaled['Country_Lebanon']  + beta[3]*intifada_scaled['AttackType'] +\\\n",
    "        beta[4]*intifada_scaled['Ransom'] + beta[5]*intifada_scaled['INT_ANY'] + beta[6]*intifada_scaled['Latitude'] + beta[7]*intifada_scaled['Longitude']\n",
    "    casualities = pm.Normal('Casualties', mu=mu, sd=sigma, observed=intifada_scaled['Casualties'])\n",
    "    \n",
    "    \n",
    "    \n",
    "    "
   ]
  },
  {
   "cell_type": "code",
   "execution_count": null,
   "metadata": {
    "collapsed": true
   },
   "outputs": [],
   "source": [
    "with model:\n",
    "    start = pm.find_MAP()\n",
    "    trace = pm.sample(4000, start=start)"
   ]
  },
  {
   "cell_type": "code",
   "execution_count": null,
   "metadata": {
    "collapsed": true
   },
   "outputs": [],
   "source": [
    "start"
   ]
  },
  {
   "cell_type": "code",
   "execution_count": null,
   "metadata": {
    "collapsed": true
   },
   "outputs": [],
   "source": [
    "pm.traceplot(trace);"
   ]
  },
  {
   "cell_type": "code",
   "execution_count": null,
   "metadata": {
    "collapsed": true
   },
   "outputs": [],
   "source": [
    "pm.plot_posterior(trace, color='#87ceeb');"
   ]
  },
  {
   "cell_type": "code",
   "execution_count": null,
   "metadata": {
    "collapsed": true
   },
   "outputs": [],
   "source": []
  }
 ],
 "metadata": {
  "kernelspec": {
   "display_name": "Python 3",
   "language": "python",
   "name": "python3"
  },
  "language_info": {
   "codemirror_mode": {
    "name": "ipython",
    "version": 3
   },
   "file_extension": ".py",
   "mimetype": "text/x-python",
   "name": "python",
   "nbconvert_exporter": "python",
   "pygments_lexer": "ipython3",
   "version": "3.6.3"
  }
 },
 "nbformat": 4,
 "nbformat_minor": 2
}
